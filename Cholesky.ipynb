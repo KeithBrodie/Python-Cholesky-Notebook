{
 "cells": [
  {
   "cell_type": "markdown",
   "metadata": {},
   "source": [
    "# Cholesky Decomposition"
   ]
  },
  {
   "cell_type": "code",
   "execution_count": 2,
   "metadata": {},
   "outputs": [],
   "source": [
    "import numpy as np\n",
    "import scipy\n",
    "import scipy.linalg\n",
    "from pprint import pprint"
   ]
  },
  {
   "cell_type": "markdown",
   "metadata": {},
   "source": [
    "Create Random Matrix"
   ]
  },
  {
   "cell_type": "code",
   "execution_count": 6,
   "metadata": {},
   "outputs": [],
   "source": [
    "n=5"
   ]
  },
  {
   "cell_type": "code",
   "execution_count": 7,
   "metadata": {},
   "outputs": [
    {
     "name": "stdout",
     "output_type": "stream",
     "text": [
      "array([[-0.12461335, -1.24977108,  0.3464285 , -1.44551703,  0.19209124],\n",
      "       [-0.70647476, -0.92909219,  1.85517894, -0.46308859,  0.71106954],\n",
      "       [ 0.9276042 , -0.55915506, -0.50147125,  0.09121574,  1.32326057],\n",
      "       [ 0.8166988 , -0.880774  , -1.61513538, -0.17533824, -0.04826378],\n",
      "       [ 1.01129142, -0.79890223,  1.12770598, -0.41618392,  0.91637582]])\n"
     ]
    }
   ],
   "source": [
    "P=np.random.randn(n,n)\n",
    "pprint(P)"
   ]
  },
  {
   "cell_type": "code",
   "execution_count": 8,
   "metadata": {},
   "outputs": [
    {
     "name": "stdout",
     "output_type": "stream",
     "text": [
      "array([[ 3.82388747,  2.69786826,  0.53183289,  0.68364874,  2.04072271],\n",
      "       [ 2.69786826,  5.52407872, -0.16745195, -2.70814375,  2.96423531],\n",
      "       [ 0.53183289, -0.16745195,  3.18391622,  1.98014728,  1.99391774],\n",
      "       [ 0.68364874, -2.70814375,  1.98014728,  4.08449495, -0.26307983],\n",
      "       [ 2.04072271,  2.96423531,  1.99391774, -0.26307983,  3.94562961]])\n"
     ]
    }
   ],
   "source": [
    "P=P @ P.T\n",
    "pprint(P)"
   ]
  },
  {
   "cell_type": "code",
   "execution_count": 14,
   "metadata": {},
   "outputs": [
    {
     "name": "stdout",
     "output_type": "stream",
     "text": [
      "array([[ 1.95547628,  0.        ,  0.        ,  0.        ,  0.        ],\n",
      "       [ 1.37964765,  1.90280085,  0.        ,  0.        ,  0.        ],\n",
      "       [ 0.27197103, -0.2851986 ,  1.74029013,  0.        ,  0.        ],\n",
      "       [ 0.34960728, -1.67672755,  0.80840766,  0.70521731,  0.        ],\n",
      "       [ 1.04359369,  0.80115779,  1.11394045, -0.26250409,  0.95127088]])\n"
     ]
    }
   ],
   "source": [
    "L=scipy.linalg.cholesky(P).T\n",
    "pprint(L)"
   ]
  },
  {
   "cell_type": "markdown",
   "metadata": {},
   "source": [
    "Check Result"
   ]
  },
  {
   "cell_type": "code",
   "execution_count": 16,
   "metadata": {},
   "outputs": [
    {
     "name": "stdout",
     "output_type": "stream",
     "text": [
      "array([[  0.00000000e+00,   0.00000000e+00,   0.00000000e+00,\n",
      "          0.00000000e+00,   0.00000000e+00],\n",
      "       [  0.00000000e+00,   0.00000000e+00,  -5.55111512e-17,\n",
      "          0.00000000e+00,   0.00000000e+00],\n",
      "       [  0.00000000e+00,  -5.55111512e-17,   0.00000000e+00,\n",
      "          0.00000000e+00,   0.00000000e+00],\n",
      "       [  0.00000000e+00,   0.00000000e+00,   0.00000000e+00,\n",
      "          0.00000000e+00,  -5.55111512e-17],\n",
      "       [  0.00000000e+00,   0.00000000e+00,   0.00000000e+00,\n",
      "         -5.55111512e-17,   0.00000000e+00]])\n"
     ]
    }
   ],
   "source": [
    "pprint(P-L @ L.T)"
   ]
  },
  {
   "cell_type": "code",
   "execution_count": null,
   "metadata": {},
   "outputs": [],
   "source": []
  }
 ],
 "metadata": {
  "kernelspec": {
   "display_name": "Python 3",
   "language": "python",
   "name": "python3"
  },
  "language_info": {
   "codemirror_mode": {
    "name": "ipython",
    "version": 3
   },
   "file_extension": ".py",
   "mimetype": "text/x-python",
   "name": "python",
   "nbconvert_exporter": "python",
   "pygments_lexer": "ipython3",
   "version": "3.5.2"
  }
 },
 "nbformat": 4,
 "nbformat_minor": 2
}
