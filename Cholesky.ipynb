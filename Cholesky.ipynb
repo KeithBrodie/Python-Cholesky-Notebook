{
 "cells": [
  {
   "cell_type": "markdown",
   "metadata": {},
   "source": [
    "# Cholesky Decomposition"
   ]
  },
  {
   "cell_type": "code",
   "execution_count": 7,
   "metadata": {
    "collapsed": true
   },
   "outputs": [],
   "source": [
    "import numpy as np\n",
    "import scipy\n",
    "import scipy.linalg"
   ]
  },
  {
   "cell_type": "markdown",
   "metadata": {},
   "source": [
    "Create Random Matrix"
   ]
  },
  {
   "cell_type": "code",
   "execution_count": 8,
   "metadata": {
    "collapsed": true
   },
   "outputs": [],
   "source": [
    "n=5"
   ]
  },
  {
   "cell_type": "code",
   "execution_count": 9,
   "metadata": {},
   "outputs": [
    {
     "name": "stdout",
     "output_type": "stream",
     "text": [
      "[[-0.69635328  1.91825182  0.91761557  0.71027839 -0.82873888]\n",
      " [ 0.17356002 -1.19226887 -1.10772575 -1.02176333  0.34509317]\n",
      " [-0.27929045  0.16215149  0.75204951  0.238814   -1.89753586]\n",
      " [-0.88210167  0.68636467 -0.24760135 -0.78347778 -0.99119227]\n",
      " [ 0.16263402  0.33678494  0.71221614 -0.03814523 -0.21770675]]\n"
     ]
    }
   ],
   "source": [
    "P=np.random.randn(n,n)\n",
    "print(P)"
   ]
  },
  {
   "cell_type": "markdown",
   "metadata": {},
   "source": [
    "Make a covariance matrix"
   ]
  },
  {
   "cell_type": "code",
   "execution_count": 10,
   "metadata": {},
   "outputs": [
    {
     "name": "stdout",
     "output_type": "stream",
     "text": [
      "[[ 6.19791982 -4.43612596  2.93781072  1.96862404  1.33965653]\n",
      " [-4.43612596  3.84177406 -1.97370449 -0.23867923 -1.1984053 ]\n",
      " [ 2.93781072 -1.97370449  4.32754918  1.86516655  0.9488066 ]\n",
      " [ 1.96862404 -0.23867923  1.86516655  2.9068058   0.15702706]\n",
      " [ 1.33965653 -1.1984053   0.9488066   0.15702706  0.69597703]]\n"
     ]
    }
   ],
   "source": [
    "P=P @ P.T\n",
    "print(P)"
   ]
  },
  {
   "cell_type": "markdown",
   "metadata": {},
   "source": [
    "Cholesky Decomposition with scipy, note the transpose operator - scipy returns upper-triangular matrix"
   ]
  },
  {
   "cell_type": "code",
   "execution_count": 11,
   "metadata": {},
   "outputs": [
    {
     "name": "stdout",
     "output_type": "stream",
     "text": [
      "[[ 2.48956217  0.          0.          0.          0.        ]\n",
      " [-1.78189001  0.81648151  0.          0.          0.        ]\n",
      " [ 1.18005115  0.15801567  1.70588965  0.          0.        ]\n",
      " [ 0.7907511   1.43340938  0.41358986  0.23621911  0.        ]\n",
      " [ 0.53810929 -0.29339763  0.21113413  0.27412056  0.44789905]]\n"
     ]
    }
   ],
   "source": [
    "L=scipy.linalg.cholesky(P).T\n",
    "print(L)"
   ]
  },
  {
   "cell_type": "markdown",
   "metadata": {},
   "source": [
    "Check Result"
   ]
  },
  {
   "cell_type": "code",
   "execution_count": 12,
   "metadata": {},
   "outputs": [
    {
     "name": "stdout",
     "output_type": "stream",
     "text": [
      "[[  8.88178420e-16   0.00000000e+00   0.00000000e+00  -2.22044605e-16\n",
      "    0.00000000e+00]\n",
      " [  0.00000000e+00   0.00000000e+00   0.00000000e+00  -2.77555756e-16\n",
      "    0.00000000e+00]\n",
      " [  0.00000000e+00   0.00000000e+00   0.00000000e+00   0.00000000e+00\n",
      "    0.00000000e+00]\n",
      " [ -2.22044605e-16  -2.77555756e-16   0.00000000e+00   0.00000000e+00\n",
      "   -2.77555756e-17]\n",
      " [  0.00000000e+00   0.00000000e+00   0.00000000e+00  -2.77555756e-17\n",
      "    0.00000000e+00]]\n"
     ]
    }
   ],
   "source": [
    "print(P-L @ L.T)"
   ]
  },
  {
   "cell_type": "markdown",
   "metadata": {},
   "source": [
    "Cholesky Decomposition with numpy, returning lower-triangular matrix"
   ]
  },
  {
   "cell_type": "code",
   "execution_count": 14,
   "metadata": {},
   "outputs": [
    {
     "name": "stdout",
     "output_type": "stream",
     "text": [
      "[[ 2.48956217  0.          0.          0.          0.        ]\n",
      " [-1.78189001  0.81648151  0.          0.          0.        ]\n",
      " [ 1.18005115  0.15801567  1.70588965  0.          0.        ]\n",
      " [ 0.7907511   1.43340938  0.41358986  0.23621911  0.        ]\n",
      " [ 0.53810929 -0.29339763  0.21113413  0.27412056  0.44789905]]\n"
     ]
    }
   ],
   "source": [
    "nL = np.linalg.cholesky(P)\n",
    "print (nL)"
   ]
  },
  {
   "cell_type": "code",
   "execution_count": 15,
   "metadata": {},
   "outputs": [
    {
     "name": "stdout",
     "output_type": "stream",
     "text": [
      "[[ 0.  0.  0.  0.  0.]\n",
      " [ 0.  0.  0.  0.  0.]\n",
      " [ 0.  0.  0.  0.  0.]\n",
      " [ 0.  0.  0.  0.  0.]\n",
      " [ 0.  0.  0.  0.  0.]]\n"
     ]
    }
   ],
   "source": [
    "print(L-nL)"
   ]
  },
  {
   "cell_type": "code",
   "execution_count": null,
   "metadata": {
    "collapsed": true
   },
   "outputs": [],
   "source": []
  }
 ],
 "metadata": {
  "kernelspec": {
   "display_name": "Python 3",
   "language": "python",
   "name": "python3"
  },
  "language_info": {
   "codemirror_mode": {
    "name": "ipython",
    "version": 3
   },
   "file_extension": ".py",
   "mimetype": "text/x-python",
   "name": "python",
   "nbconvert_exporter": "python",
   "pygments_lexer": "ipython3",
   "version": "3.6.3"
  }
 },
 "nbformat": 4,
 "nbformat_minor": 2
}
